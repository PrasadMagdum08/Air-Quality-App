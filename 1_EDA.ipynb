{
  "cells": [
    {
      "cell_type": "markdown",
      "metadata": {
        "id": "yQGwVFrbfPZc"
      },
      "source": [
        "# **Air Quality Monitoring Application**"
      ]
    },
    {
      "cell_type": "code",
      "execution_count": 1,
      "metadata": {
        "id": "kQAKiyYnfPZd"
      },
      "outputs": [],
      "source": [
        "import numpy as np\n",
        "import pandas as pd\n",
        "import seaborn as sns\n",
        "import os\n",
        "import json\n",
        "import requests\n",
        "import matplotlib.pyplot as plt\n",
        "from datetime import datetime"
      ]
    },
    {
      "cell_type": "markdown",
      "metadata": {
        "id": "puhQUe9BfPZe"
      },
      "source": [
        "### **Extracting data from json**"
      ]
    },
    {
      "cell_type": "code",
      "execution_count": 2,
      "metadata": {
        "id": "VS4jLURmfPZe"
      },
      "outputs": [],
      "source": [
        "file_path = r\"./site_ids.json\"\n",
        "\n",
        "with open(file_path, \"r\") as file_obj:\n",
        "\n",
        "    site_df = json.load(file_obj)"
      ]
    },
    {
      "cell_type": "code",
      "execution_count": 3,
      "metadata": {
        "id": "W--cAS4YfPZe"
      },
      "outputs": [],
      "source": [
        "site_ids = [site_id['id'] for site_id in site_df]"
      ]
    },
    {
      "cell_type": "markdown",
      "metadata": {
        "id": "27ZtAzapfPZe"
      },
      "source": [
        "### **API Link**"
      ]
    },
    {
      "cell_type": "code",
      "execution_count": 4,
      "metadata": {
        "colab": {
          "base_uri": "https://localhost:8080/",
          "height": 53
        },
        "id": "eX1h8dHDfPZf",
        "outputId": "d7a3a84f-aa7f-40b1-fdf3-cb6f706b4905"
      },
      "outputs": [
        {
          "data": {
            "text/plain": [
              "'https://atmos.urbansciences.in/adp/v4/getDeviceDataParam/imei/%7bsite_id%7d/params/%7bparams%7d/startdate/2023-12-29T00:00/enddate/2024-12-31T00:00/ts/mm/avg/15/api/63h3AckbgtY?gaps=1&gap_value=NaN'"
            ]
          },
          "execution_count": 4,
          "metadata": {},
          "output_type": "execute_result"
        }
      ],
      "source": [
        "\"https://atmos.urbansciences.in/adp/v4/getDeviceDataParam/imei/%7bsite_id%7d/params/%7bparams%7d/startdate/2023-12-29T00:00/enddate/2024-12-31T00:00/ts/mm/avg/15/api/63h3AckbgtY?gaps=1&gap_value=NaN\""
      ]
    },
    {
      "cell_type": "code",
      "execution_count": 5,
      "metadata": {
        "colab": {
          "base_uri": "https://localhost:8080/",
          "height": 53
        },
        "id": "h3G_sPkTfPZf",
        "outputId": "85015ffa-214c-4df2-9d9f-1f701b0b1fa7"
      },
      "outputs": [
        {
          "data": {
            "text/plain": [
              "'http://atmos.urbansciences.in/adp/v4/getDeviceDataParam/imei/{site_id}/params/{params}/startdate/{start_date}/enddate/{end_date}/ts/mm/avg/15/api/{api_key}?gaps=1&gap_value=NaN'"
            ]
          },
          "execution_count": 5,
          "metadata": {},
          "output_type": "execute_result"
        }
      ],
      "source": [
        "\n",
        "\"http://atmos.urbansciences.in/adp/v4/getDeviceDataParam/imei/{site_id}/params/{params}/startdate/{start_date}/enddate/{end_date}/ts/mm/avg/15/api/{api_key}?gaps=1&gap_value=NaN\""
      ]
    },
    {
      "cell_type": "code",
      "execution_count": 6,
      "metadata": {
        "id": "daPyQWy5fPZg"
      },
      "outputs": [],
      "source": [
        "params = \"pm2.5cnc,pm10cnc\"\n",
        "start_date = \"2024-01-01T00:00\"\n",
        "end_date = f\"{datetime.now().strftime('%Y-%m-%d')}T00:00\"\n",
        "timeframe = \"15\"\n",
        "api_key = \"63h3AckbgtY\"\n",
        "\n",
        "dfs = []\n",
        "for site_id in site_ids:\n",
        "    url = f\"http://atmos.urbansciences.in/adp/v4/getDeviceDataParam/imei/{site_id}/params/{params}/startdate/{start_date}/enddate/{end_date}/ts/mm/avg/15/api/{api_key}?gaps=1&gap_value=NaN\"\n",
        "\n",
        "    response = requests.get(url)\n",
        "    if response.status_code == 200:\n",
        "        api_df = pd.read_csv(url)\n",
        "        api_df['site_id'] = site_id\n",
        "        dfs.append(api_df)\n",
        "    else:\n",
        "        print(f\"Failed to fetch data for {site_id}\")\n"
      ]
    },
    {
      "cell_type": "code",
      "execution_count": 7,
      "metadata": {
        "colab": {
          "base_uri": "https://localhost:8080/",
          "height": 206
        },
        "id": "t3mBLmc8fPZg",
        "outputId": "8f43e55a-ce8c-4c44-ffcf-78d15d347792"
      },
      "outputs": [
        {
          "data": {
            "text/html": [
              "<div>\n",
              "<style scoped>\n",
              "    .dataframe tbody tr th:only-of-type {\n",
              "        vertical-align: middle;\n",
              "    }\n",
              "\n",
              "    .dataframe tbody tr th {\n",
              "        vertical-align: top;\n",
              "    }\n",
              "\n",
              "    .dataframe thead th {\n",
              "        text-align: right;\n",
              "    }\n",
              "</style>\n",
              "<table border=\"1\" class=\"dataframe\">\n",
              "  <thead>\n",
              "    <tr style=\"text-align: right;\">\n",
              "      <th></th>\n",
              "      <th>dt_time</th>\n",
              "      <th>pm2.5cnc</th>\n",
              "      <th>pm10cnc</th>\n",
              "      <th>deviceid</th>\n",
              "      <th>site_id</th>\n",
              "    </tr>\n",
              "  </thead>\n",
              "  <tbody>\n",
              "    <tr>\n",
              "      <th>0</th>\n",
              "      <td>2024-01-01 00:00:00</td>\n",
              "      <td>120.09</td>\n",
              "      <td>198.98</td>\n",
              "      <td>site_104</td>\n",
              "      <td>site_104</td>\n",
              "    </tr>\n",
              "    <tr>\n",
              "      <th>1</th>\n",
              "      <td>2024-01-01 00:15:00</td>\n",
              "      <td>121.28</td>\n",
              "      <td>200.83</td>\n",
              "      <td>site_104</td>\n",
              "      <td>site_104</td>\n",
              "    </tr>\n",
              "    <tr>\n",
              "      <th>2</th>\n",
              "      <td>2024-01-01 00:30:00</td>\n",
              "      <td>111.90</td>\n",
              "      <td>183.90</td>\n",
              "      <td>site_104</td>\n",
              "      <td>site_104</td>\n",
              "    </tr>\n",
              "    <tr>\n",
              "      <th>3</th>\n",
              "      <td>2024-01-01 00:45:00</td>\n",
              "      <td>113.31</td>\n",
              "      <td>162.37</td>\n",
              "      <td>site_104</td>\n",
              "      <td>site_104</td>\n",
              "    </tr>\n",
              "    <tr>\n",
              "      <th>4</th>\n",
              "      <td>2024-01-01 01:00:00</td>\n",
              "      <td>102.87</td>\n",
              "      <td>156.25</td>\n",
              "      <td>site_104</td>\n",
              "      <td>site_104</td>\n",
              "    </tr>\n",
              "  </tbody>\n",
              "</table>\n",
              "</div>"
            ],
            "text/plain": [
              "               dt_time  pm2.5cnc  pm10cnc  deviceid   site_id\n",
              "0  2024-01-01 00:00:00    120.09   198.98  site_104  site_104\n",
              "1  2024-01-01 00:15:00    121.28   200.83  site_104  site_104\n",
              "2  2024-01-01 00:30:00    111.90   183.90  site_104  site_104\n",
              "3  2024-01-01 00:45:00    113.31   162.37  site_104  site_104\n",
              "4  2024-01-01 01:00:00    102.87   156.25  site_104  site_104"
            ]
          },
          "execution_count": 7,
          "metadata": {},
          "output_type": "execute_result"
        }
      ],
      "source": [
        "df = pd.concat(dfs, ignore_index=True)\n",
        "df.head()"
      ]
    },
    {
      "cell_type": "code",
      "execution_count": 8,
      "metadata": {
        "colab": {
          "base_uri": "https://localhost:8080/",
          "height": 241
        },
        "id": "UTMMcpFWfPZg",
        "outputId": "bd1d1487-6a25-4f2b-c4f5-4d72b5e8be19"
      },
      "outputs": [
        {
          "data": {
            "text/plain": [
              "dt_time          0\n",
              "pm2.5cnc    657804\n",
              "pm10cnc     667212\n",
              "deviceid         0\n",
              "site_id          0\n",
              "dtype: int64"
            ]
          },
          "execution_count": 8,
          "metadata": {},
          "output_type": "execute_result"
        }
      ],
      "source": [
        "df.isna().sum()"
      ]
    },
    {
      "cell_type": "code",
      "execution_count": 9,
      "metadata": {
        "colab": {
          "base_uri": "https://localhost:8080/",
          "height": 241
        },
        "id": "u2mSOq2nrvpn",
        "outputId": "4be9c692-27c4-4478-846b-ce7bb9d26bc7"
      },
      "outputs": [
        {
          "data": {
            "text/plain": [
              "dt_time      0.000000\n",
              "pm2.5cnc    17.051030\n",
              "pm10cnc     17.294896\n",
              "deviceid     0.000000\n",
              "site_id      0.000000\n",
              "dtype: float64"
            ]
          },
          "execution_count": 9,
          "metadata": {},
          "output_type": "execute_result"
        }
      ],
      "source": [
        "(df.isna().sum()/df.shape[0])*100"
      ]
    },
    {
      "cell_type": "code",
      "execution_count": 10,
      "metadata": {
        "id": "xOhUd6fJfPZg"
      },
      "outputs": [],
      "source": [
        "df['dt_time'] = pd.to_datetime(df['dt_time'])"
      ]
    },
    {
      "cell_type": "code",
      "execution_count": 11,
      "metadata": {
        "colab": {
          "base_uri": "https://localhost:8080/"
        },
        "id": "AD8U0rjUse0o",
        "outputId": "d0b8f22e-a329-4c58-a3c4-69bb634b98d6"
      },
      "outputs": [
        {
          "name": "stdout",
          "output_type": "stream",
          "text": [
            "<class 'pandas.core.frame.DataFrame'>\n",
            "RangeIndex: 3857855 entries, 0 to 3857854\n",
            "Data columns (total 5 columns):\n",
            " #   Column    Dtype         \n",
            "---  ------    -----         \n",
            " 0   dt_time   datetime64[ns]\n",
            " 1   pm2.5cnc  float64       \n",
            " 2   pm10cnc   float64       \n",
            " 3   deviceid  object        \n",
            " 4   site_id   object        \n",
            "dtypes: datetime64[ns](1), float64(2), object(2)\n",
            "memory usage: 147.2+ MB\n"
          ]
        }
      ],
      "source": [
        "df.info()"
      ]
    },
    {
      "cell_type": "code",
      "execution_count": null,
      "metadata": {
        "id": "-mn321cXs7iU"
      },
      "outputs": [],
      "source": []
    },
    {
      "cell_type": "code",
      "execution_count": 13,
      "metadata": {
        "id": "86Db78HxsOSn"
      },
      "outputs": [],
      "source": [
        "file_path = \"data.csv\"\n",
        "with open(file_path, 'w') as file_obj:\n",
        "    file_obj.write(df.to_csv())"
      ]
    },
    {
      "cell_type": "code",
      "execution_count": null,
      "metadata": {
        "colab": {
          "base_uri": "https://localhost:8080/",
          "height": 206
        },
        "id": "IpJ8pQc6t3y_",
        "outputId": "23e71f77-a3bc-447b-f533-56104616855c"
      },
      "outputs": [
        {
          "data": {
            "application/vnd.google.colaboratory.intrinsic+json": {
              "type": "dataframe",
              "variable_name": "df"
            },
            "text/html": [
              "\n",
              "  <div id=\"df-1f241ba9-f981-4bbe-a39c-0247539916e6\" class=\"colab-df-container\">\n",
              "    <div>\n",
              "<style scoped>\n",
              "    .dataframe tbody tr th:only-of-type {\n",
              "        vertical-align: middle;\n",
              "    }\n",
              "\n",
              "    .dataframe tbody tr th {\n",
              "        vertical-align: top;\n",
              "    }\n",
              "\n",
              "    .dataframe thead th {\n",
              "        text-align: right;\n",
              "    }\n",
              "</style>\n",
              "<table border=\"1\" class=\"dataframe\">\n",
              "  <thead>\n",
              "    <tr style=\"text-align: right;\">\n",
              "      <th></th>\n",
              "      <th>Unnamed: 0</th>\n",
              "      <th>dt_time</th>\n",
              "      <th>pm2.5cnc</th>\n",
              "      <th>pm10cnc</th>\n",
              "      <th>deviceid</th>\n",
              "      <th>site_id</th>\n",
              "    </tr>\n",
              "  </thead>\n",
              "  <tbody>\n",
              "    <tr>\n",
              "      <th>0</th>\n",
              "      <td>0</td>\n",
              "      <td>2024-01-01 00:00:00</td>\n",
              "      <td>120.09</td>\n",
              "      <td>198.98</td>\n",
              "      <td>site_104</td>\n",
              "      <td>site_104</td>\n",
              "    </tr>\n",
              "    <tr>\n",
              "      <th>1</th>\n",
              "      <td>1</td>\n",
              "      <td>2024-01-01 00:15:00</td>\n",
              "      <td>121.28</td>\n",
              "      <td>200.83</td>\n",
              "      <td>site_104</td>\n",
              "      <td>site_104</td>\n",
              "    </tr>\n",
              "    <tr>\n",
              "      <th>2</th>\n",
              "      <td>2</td>\n",
              "      <td>2024-01-01 00:30:00</td>\n",
              "      <td>111.90</td>\n",
              "      <td>183.90</td>\n",
              "      <td>site_104</td>\n",
              "      <td>site_104</td>\n",
              "    </tr>\n",
              "    <tr>\n",
              "      <th>3</th>\n",
              "      <td>3</td>\n",
              "      <td>2024-01-01 00:45:00</td>\n",
              "      <td>113.31</td>\n",
              "      <td>162.37</td>\n",
              "      <td>site_104</td>\n",
              "      <td>site_104</td>\n",
              "    </tr>\n",
              "    <tr>\n",
              "      <th>4</th>\n",
              "      <td>4</td>\n",
              "      <td>2024-01-01 01:00:00</td>\n",
              "      <td>102.87</td>\n",
              "      <td>156.25</td>\n",
              "      <td>site_104</td>\n",
              "      <td>site_104</td>\n",
              "    </tr>\n",
              "  </tbody>\n",
              "</table>\n",
              "</div>\n",
              "    <div class=\"colab-df-buttons\">\n",
              "\n",
              "  <div class=\"colab-df-container\">\n",
              "    <button class=\"colab-df-convert\" onclick=\"convertToInteractive('df-1f241ba9-f981-4bbe-a39c-0247539916e6')\"\n",
              "            title=\"Convert this dataframe to an interactive table.\"\n",
              "            style=\"display:none;\">\n",
              "\n",
              "  <svg xmlns=\"http://www.w3.org/2000/svg\" height=\"24px\" viewBox=\"0 -960 960 960\">\n",
              "    <path d=\"M120-120v-720h720v720H120Zm60-500h600v-160H180v160Zm220 220h160v-160H400v160Zm0 220h160v-160H400v160ZM180-400h160v-160H180v160Zm440 0h160v-160H620v160ZM180-180h160v-160H180v160Zm440 0h160v-160H620v160Z\"/>\n",
              "  </svg>\n",
              "    </button>\n",
              "\n",
              "  <style>\n",
              "    .colab-df-container {\n",
              "      display:flex;\n",
              "      gap: 12px;\n",
              "    }\n",
              "\n",
              "    .colab-df-convert {\n",
              "      background-color: #E8F0FE;\n",
              "      border: none;\n",
              "      border-radius: 50%;\n",
              "      cursor: pointer;\n",
              "      display: none;\n",
              "      fill: #1967D2;\n",
              "      height: 32px;\n",
              "      padding: 0 0 0 0;\n",
              "      width: 32px;\n",
              "    }\n",
              "\n",
              "    .colab-df-convert:hover {\n",
              "      background-color: #E2EBFA;\n",
              "      box-shadow: 0px 1px 2px rgba(60, 64, 67, 0.3), 0px 1px 3px 1px rgba(60, 64, 67, 0.15);\n",
              "      fill: #174EA6;\n",
              "    }\n",
              "\n",
              "    .colab-df-buttons div {\n",
              "      margin-bottom: 4px;\n",
              "    }\n",
              "\n",
              "    [theme=dark] .colab-df-convert {\n",
              "      background-color: #3B4455;\n",
              "      fill: #D2E3FC;\n",
              "    }\n",
              "\n",
              "    [theme=dark] .colab-df-convert:hover {\n",
              "      background-color: #434B5C;\n",
              "      box-shadow: 0px 1px 3px 1px rgba(0, 0, 0, 0.15);\n",
              "      filter: drop-shadow(0px 1px 2px rgba(0, 0, 0, 0.3));\n",
              "      fill: #FFFFFF;\n",
              "    }\n",
              "  </style>\n",
              "\n",
              "    <script>\n",
              "      const buttonEl =\n",
              "        document.querySelector('#df-1f241ba9-f981-4bbe-a39c-0247539916e6 button.colab-df-convert');\n",
              "      buttonEl.style.display =\n",
              "        google.colab.kernel.accessAllowed ? 'block' : 'none';\n",
              "\n",
              "      async function convertToInteractive(key) {\n",
              "        const element = document.querySelector('#df-1f241ba9-f981-4bbe-a39c-0247539916e6');\n",
              "        const dataTable =\n",
              "          await google.colab.kernel.invokeFunction('convertToInteractive',\n",
              "                                                    [key], {});\n",
              "        if (!dataTable) return;\n",
              "\n",
              "        const docLinkHtml = 'Like what you see? Visit the ' +\n",
              "          '<a target=\"_blank\" href=https://colab.research.google.com/notebooks/data_table.ipynb>data table notebook</a>'\n",
              "          + ' to learn more about interactive tables.';\n",
              "        element.innerHTML = '';\n",
              "        dataTable['output_type'] = 'display_data';\n",
              "        await google.colab.output.renderOutput(dataTable, element);\n",
              "        const docLink = document.createElement('div');\n",
              "        docLink.innerHTML = docLinkHtml;\n",
              "        element.appendChild(docLink);\n",
              "      }\n",
              "    </script>\n",
              "  </div>\n",
              "\n",
              "\n",
              "<div id=\"df-c8679bcd-4f0a-4bf6-b6cf-32f57cf535d2\">\n",
              "  <button class=\"colab-df-quickchart\" onclick=\"quickchart('df-c8679bcd-4f0a-4bf6-b6cf-32f57cf535d2')\"\n",
              "            title=\"Suggest charts\"\n",
              "            style=\"display:none;\">\n",
              "\n",
              "<svg xmlns=\"http://www.w3.org/2000/svg\" height=\"24px\"viewBox=\"0 0 24 24\"\n",
              "     width=\"24px\">\n",
              "    <g>\n",
              "        <path d=\"M19 3H5c-1.1 0-2 .9-2 2v14c0 1.1.9 2 2 2h14c1.1 0 2-.9 2-2V5c0-1.1-.9-2-2-2zM9 17H7v-7h2v7zm4 0h-2V7h2v10zm4 0h-2v-4h2v4z\"/>\n",
              "    </g>\n",
              "</svg>\n",
              "  </button>\n",
              "\n",
              "<style>\n",
              "  .colab-df-quickchart {\n",
              "      --bg-color: #E8F0FE;\n",
              "      --fill-color: #1967D2;\n",
              "      --hover-bg-color: #E2EBFA;\n",
              "      --hover-fill-color: #174EA6;\n",
              "      --disabled-fill-color: #AAA;\n",
              "      --disabled-bg-color: #DDD;\n",
              "  }\n",
              "\n",
              "  [theme=dark] .colab-df-quickchart {\n",
              "      --bg-color: #3B4455;\n",
              "      --fill-color: #D2E3FC;\n",
              "      --hover-bg-color: #434B5C;\n",
              "      --hover-fill-color: #FFFFFF;\n",
              "      --disabled-bg-color: #3B4455;\n",
              "      --disabled-fill-color: #666;\n",
              "  }\n",
              "\n",
              "  .colab-df-quickchart {\n",
              "    background-color: var(--bg-color);\n",
              "    border: none;\n",
              "    border-radius: 50%;\n",
              "    cursor: pointer;\n",
              "    display: none;\n",
              "    fill: var(--fill-color);\n",
              "    height: 32px;\n",
              "    padding: 0;\n",
              "    width: 32px;\n",
              "  }\n",
              "\n",
              "  .colab-df-quickchart:hover {\n",
              "    background-color: var(--hover-bg-color);\n",
              "    box-shadow: 0 1px 2px rgba(60, 64, 67, 0.3), 0 1px 3px 1px rgba(60, 64, 67, 0.15);\n",
              "    fill: var(--button-hover-fill-color);\n",
              "  }\n",
              "\n",
              "  .colab-df-quickchart-complete:disabled,\n",
              "  .colab-df-quickchart-complete:disabled:hover {\n",
              "    background-color: var(--disabled-bg-color);\n",
              "    fill: var(--disabled-fill-color);\n",
              "    box-shadow: none;\n",
              "  }\n",
              "\n",
              "  .colab-df-spinner {\n",
              "    border: 2px solid var(--fill-color);\n",
              "    border-color: transparent;\n",
              "    border-bottom-color: var(--fill-color);\n",
              "    animation:\n",
              "      spin 1s steps(1) infinite;\n",
              "  }\n",
              "\n",
              "  @keyframes spin {\n",
              "    0% {\n",
              "      border-color: transparent;\n",
              "      border-bottom-color: var(--fill-color);\n",
              "      border-left-color: var(--fill-color);\n",
              "    }\n",
              "    20% {\n",
              "      border-color: transparent;\n",
              "      border-left-color: var(--fill-color);\n",
              "      border-top-color: var(--fill-color);\n",
              "    }\n",
              "    30% {\n",
              "      border-color: transparent;\n",
              "      border-left-color: var(--fill-color);\n",
              "      border-top-color: var(--fill-color);\n",
              "      border-right-color: var(--fill-color);\n",
              "    }\n",
              "    40% {\n",
              "      border-color: transparent;\n",
              "      border-right-color: var(--fill-color);\n",
              "      border-top-color: var(--fill-color);\n",
              "    }\n",
              "    60% {\n",
              "      border-color: transparent;\n",
              "      border-right-color: var(--fill-color);\n",
              "    }\n",
              "    80% {\n",
              "      border-color: transparent;\n",
              "      border-right-color: var(--fill-color);\n",
              "      border-bottom-color: var(--fill-color);\n",
              "    }\n",
              "    90% {\n",
              "      border-color: transparent;\n",
              "      border-bottom-color: var(--fill-color);\n",
              "    }\n",
              "  }\n",
              "</style>\n",
              "\n",
              "  <script>\n",
              "    async function quickchart(key) {\n",
              "      const quickchartButtonEl =\n",
              "        document.querySelector('#' + key + ' button');\n",
              "      quickchartButtonEl.disabled = true;  // To prevent multiple clicks.\n",
              "      quickchartButtonEl.classList.add('colab-df-spinner');\n",
              "      try {\n",
              "        const charts = await google.colab.kernel.invokeFunction(\n",
              "            'suggestCharts', [key], {});\n",
              "      } catch (error) {\n",
              "        console.error('Error during call to suggestCharts:', error);\n",
              "      }\n",
              "      quickchartButtonEl.classList.remove('colab-df-spinner');\n",
              "      quickchartButtonEl.classList.add('colab-df-quickchart-complete');\n",
              "    }\n",
              "    (() => {\n",
              "      let quickchartButtonEl =\n",
              "        document.querySelector('#df-c8679bcd-4f0a-4bf6-b6cf-32f57cf535d2 button');\n",
              "      quickchartButtonEl.style.display =\n",
              "        google.colab.kernel.accessAllowed ? 'block' : 'none';\n",
              "    })();\n",
              "  </script>\n",
              "</div>\n",
              "\n",
              "    </div>\n",
              "  </div>\n"
            ],
            "text/plain": [
              "   Unnamed: 0              dt_time  pm2.5cnc  pm10cnc  deviceid   site_id\n",
              "0           0  2024-01-01 00:00:00    120.09   198.98  site_104  site_104\n",
              "1           1  2024-01-01 00:15:00    121.28   200.83  site_104  site_104\n",
              "2           2  2024-01-01 00:30:00    111.90   183.90  site_104  site_104\n",
              "3           3  2024-01-01 00:45:00    113.31   162.37  site_104  site_104\n",
              "4           4  2024-01-01 01:00:00    102.87   156.25  site_104  site_104"
            ]
          },
          "execution_count": 13,
          "metadata": {},
          "output_type": "execute_result"
        }
      ],
      "source": [
        "df = pd.read_csv('data.csv')\n",
        "df.head()"
      ]
    },
    {
      "cell_type": "code",
      "execution_count": null,
      "metadata": {
        "colab": {
          "base_uri": "https://localhost:8080/"
        },
        "id": "mieLn8hUtTM7",
        "outputId": "1ed7f031-77e8-46e0-db26-bbc715a3e9c5"
      },
      "outputs": [
        {
          "data": {
            "text/plain": [
              "(3857855, 6)"
            ]
          },
          "execution_count": 14,
          "metadata": {},
          "output_type": "execute_result"
        }
      ],
      "source": [
        "df.shape"
      ]
    },
    {
      "cell_type": "code",
      "execution_count": null,
      "metadata": {
        "id": "DAvG9CWBtVNN"
      },
      "outputs": [],
      "source": []
    }
  ],
  "metadata": {
    "colab": {
      "provenance": []
    },
    "kernelspec": {
      "display_name": "Python 3",
      "name": "python3"
    },
    "language_info": {
      "codemirror_mode": {
        "name": "ipython",
        "version": 3
      },
      "file_extension": ".py",
      "mimetype": "text/x-python",
      "name": "python",
      "nbconvert_exporter": "python",
      "pygments_lexer": "ipython3",
      "version": "3.12.9"
    }
  },
  "nbformat": 4,
  "nbformat_minor": 0
}
